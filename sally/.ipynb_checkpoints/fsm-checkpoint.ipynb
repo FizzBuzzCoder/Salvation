{
 "cells": [
  {
   "cell_type": "code",
   "execution_count": 4,
   "metadata": {},
   "outputs": [],
   "source": [
    "import pandas as pd\n",
    "from transitions.extensions import GraphMachine as Machine\n",
    "from state_replies import replies\n",
    "\n",
    "class Sally(object):\n",
    "    states = sorted(replies.keys())\n",
    "    \n",
    "    def __init__(self):\n",
    "        \n",
    "        self.machine = Machine(model=self, states=Sally.states, initial=\"0\")\n",
    "        self.machine.add_transition(trigger=\"file_claim\", source=\"0\", dest=\"1\")\n",
    "        self.machine.add_transition(trigger=\"file_claim_policy_number\", source=\"0\", dest=\"3\")\n",
    "        self.machine.add_transition(trigger=\"check_claim_status\", source=\"0\", dest=\"2\")\n",
    "        self.machine.add_transition(trigger=\"initial_intent_unk\", source=\"0\", dest=\"f0_0\")\n",
    "        self.machine.add_transition(trigger=\"policy_non_num\", source=\"1\", dest=\"f1_1\")\n",
    "        self.machine.add_transition(trigger=\"already_filed\", source=\"1\", dest=\"f1_3\")\n",
    "        self.machine.add_transition(trigger=\"policy_num_valid\", source=\"1\", dest=\"3\")\n",
    "        self.machine.add_transition(trigger=\"policy_digit_unmatch\", source=\"1\", dest=\"f1_2\")\n",
    "        self.machine.add_transition(trigger=\"policy_not_found\", source=\"1\", dest=\"f1_0\")\n",
    "        self.machine.add_transition(trigger=\"name_extract_fail\", source=\"3\", dest=\"f3_0\")\n",
    "        self.machine.add_transition(trigger=\"name_extract\", source=\"3\", dest=\"4a\")\n",
    "        self.machine.add_transition(trigger=\"address_extract_fail\", source=\"4a\", dest=\"f4a_0\")\n",
    "        self.machine.add_transition(trigger=\"address_extract\", source=\"4a\", dest=\"4\")\n",
    "        self.machine.add_transition(trigger=\"phone_valid\", source=\"4\", dest=\"5\")\n",
    "        self.machine.add_transition(trigger=\"phone_not_valid\", source=\"4\", dest=\"f4_1\")\n",
    "        self.machine.add_transition(trigger=\"area_code_missing\", source=\"4\",dest=\"4_0\")\n",
    "        self.machine.add_transition(trigger=\"area_code_valid\", source=\"4_0\", dest=\"5\")\n",
    "        self.machine.add_transition(trigger=\"area_code_invalid\", source=\"4_0\", dest=\"f4_0_0\")\n",
    "        self.machine.add_transition(trigger=\"email_valid\", source=\"5\", dest=\"6a\")\n",
    "        self.machine.add_transition(trigger=\"email_invalid\", source=\"5\", dest=\"f5_0\")\n",
    "        self.machine.add_transition(trigger=\"loss_date_extract\", source=\"6a\", dest=\"6\")\n",
    "        self.machine.add_transition(trigger=\"loss_date_extract_fail\", source=\"6a\", dest=\"f6a_0\")\n",
    "        self.machine.add_transition(trigger=\"loss_not_extract\", source=\"6\", dest=\"f6_0\")\n",
    "        self.machine.add_transition(trigger=\"loss_desc\", source=\"6\", dest=\"7\")\n",
    "        self.machine.add_transition(trigger=\"ext_desc\", source=\"6\", dest=\"8\")\n",
    "        self.machine.add_transition(trigger=\"int_desc\", source=\"6\", dest=\"9\")\n",
    "        self.machine.add_transition(trigger=\"ext_int_desc\", source=\"6\", dest=\"10\")\n",
    "        self.machine.add_transition(trigger=\"ext_desc\", source=\"7\", dest=\"8\")\n",
    "        self.machine.add_transition(trigger=\"int_desc\", source=\"8\", dest=\"10\")\n",
    "        self.machine.add_transition(trigger=\"ext_desc\", source=\"9\", dest=\"10\")\n",
    "        self.machine.add_transition(trigger=\"ext_not_extract\", source=\"7\", dest=\"f7_0\")\n",
    "        self.machine.add_transition(trigger=\"int_not_extract\", source=\"8\", dest=\"f8_0\")\n",
    "        self.machine.add_transition(trigger=\"ext_not_extract\", source=\"9\", dest=\"f9_0\")\n",
    "        self.machine.add_transition(trigger=\"no_power_loss\", source=\"10\", dest=\"13\")\n",
    "        self.machine.add_transition(trigger=\"power_loss_extract_fail\", source=\"10\", dest=\"f10_0\")\n",
    "        self.machine.add_transition(trigger=\"yes_power_loss\", source=\"10\", dest=\"11a\")\n",
    "        self.machine.add_transition(trigger=\"power_loss_dur_extract\", source=\"11a\", dest=\"11\")\n",
    "        self.machine.add_transition(trigger=\"power_loss_dur_extract_fail\", source=\"11a\", dest=\"f11a_0\")\n",
    "        self.machine.add_transition(trigger=\"no_food_spoil\", source=\"11\", dest=\"13\")\n",
    "        self.machine.add_transition(trigger=\"food_spoil_extract_fail\", source=\"11\", dest=\"f11_0\")\n",
    "        self.machine.add_transition(trigger=\"yes_food_spoil\", source=\"11\", dest=\"12\")\n",
    "        self.machine.add_transition(trigger=\"food_spoil_est_extract\", source=\"12\", dest=\"13\")\n",
    "        self.machine.add_transition(trigger=\"food_spoil_est_extract_fail\", source=\"12\", dest=\"f12_0\")\n",
    "        self.machine.add_transition(trigger=\"yes_home_livable\", source=\"13\", dest=\"14\")\n",
    "        self.machine.add_transition(trigger=\"no_home_livable\", source=\"13\", dest=\"14\")\n",
    "        self.machine.add_transition(trigger=\"home_livable_extract_fail\", source=\"13\", dest=\"f13_0\")\n",
    "        self.machine.add_transition(trigger=\"claim_num_generate\", source=\"14\", dest=\"15\")\n",
    "        \n",
    "        for state in self.machine.states.keys():\n",
    "            if state[0] == 'f':\n",
    "                self.machine.add_transition(trigger=\"fail_over\", \n",
    "                                            source=state, \n",
    "                                            dest=\"_\".join(state[1:].split(\"_\")[:-1]))"
   ]
  },
  {
   "cell_type": "code",
   "execution_count": 5,
   "metadata": {},
   "outputs": [],
   "source": [
    "sally = Sally()\n",
    "sally.machine.get_graph().draw('my_state_diagram.png', prog='dot')"
   ]
  },
  {
   "cell_type": "code",
   "execution_count": null,
   "metadata": {},
   "outputs": [],
   "source": []
  }
 ],
 "metadata": {
  "kernelspec": {
   "display_name": "Python 2",
   "language": "python",
   "name": "python2"
  },
  "language_info": {
   "codemirror_mode": {
    "name": "ipython",
    "version": 2
   },
   "file_extension": ".py",
   "mimetype": "text/x-python",
   "name": "python",
   "nbconvert_exporter": "python",
   "pygments_lexer": "ipython2",
   "version": "2.7.15rc1"
  }
 },
 "nbformat": 4,
 "nbformat_minor": 2
}
