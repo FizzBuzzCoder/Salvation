{
 "cells": [
  {
   "cell_type": "code",
   "execution_count": 1,
   "metadata": {},
   "outputs": [],
   "source": [
    "%load_ext autoreload\n",
    "%autoreload 2"
   ]
  },
  {
   "cell_type": "code",
   "execution_count": 2,
   "metadata": {},
   "outputs": [],
   "source": [
    "from services import *\n",
    "from pprint import pprint"
   ]
  },
  {
   "cell_type": "markdown",
   "metadata": {},
   "source": [
    "### May I know your policy number?"
   ]
  },
  {
   "cell_type": "code",
   "execution_count": 12,
   "metadata": {},
   "outputs": [
    {
     "name": "stdout",
     "output_type": "stream",
     "text": [
      "\n",
      "----------------------------------------\n",
      "My policy number is HCPC-HO3-225976-8\n",
      "\n",
      "{ 'reply': ( 'Ok. Please give me a phone number to contact you. I will also share this number with the adjuster who will visit your property.',),\n",
      "  'response': 'ok',\n",
      "  'value': '259768'}\n",
      "\n",
      "----------------------------------------\n",
      "it is HCPC-HO3-225976-8\n",
      "\n",
      "{ 'reply': ( 'Ok. Please give me a phone number to contact you. I will also share this number with the adjuster who will visit your property.',),\n",
      "  'response': 'ok',\n",
      "  'value': '259768'}\n",
      "\n",
      "----------------------------------------\n",
      "it's HCPCHO32259768\n",
      "\n",
      "{ 'reply': ( 'Ok. Please give me a phone number to contact you. I will also share this number with the adjuster who will visit your property.',),\n",
      "  'response': 'ok',\n",
      "  'value': '259768'}\n",
      "\n",
      "----------------------------------------\n",
      "it's HCPC-HO3-2259768\n",
      "\n",
      "{ 'reply': ( 'Ok. Please give me a phone number to contact you. I will also share this number with the adjuster who will visit your property.',),\n",
      "  'response': 'ok',\n",
      "  'value': '259768'}\n",
      "\n",
      "----------------------------------------\n",
      "it's 225976-8\n",
      "\n",
      "{ 'reply': ( 'Ok. Please give me a phone number to contact you. I will also share this number with the adjuster who will visit your property.',),\n",
      "  'response': 'ok',\n",
      "  'value': '259768'}\n",
      "\n",
      "----------------------------------------\n",
      "it's 2259768\n",
      "\n",
      "{ 'reply': ( 'Ok. Please give me a phone number to contact you. I will also share this number with the adjuster who will visit your property.',),\n",
      "  'response': 'ok',\n",
      "  'value': '259768'}\n",
      "\n",
      "----------------------------------------\n",
      "how should i write it?\n",
      "\n",
      "{ 'reply': ( 'I am sorry I could not get the policy number you entered. Your Policy Number is a six-digit number. It can be found on the top-left corner of the policy letter you got from us.',),\n",
      "  'response': 'non_numeric'}\n",
      "\n",
      "----------------------------------------\n",
      "I don't really remember the policy number\n",
      "\n",
      "{ 'reply': ( 'I am sorry I could not get the policy number you entered. Your Policy Number is a six-digit number. It can be found on the top-left corner of the policy letter you got from us.',),\n",
      "  'response': 'non_numeric'}\n"
     ]
    }
   ],
   "source": [
    "texts = [\n",
    "    \"My policy number is HCPC-HO3-225976-8\",\n",
    "    \"it is HCPC-HO3-225976-8\",\n",
    "    \"it's HCPCHO32259768\",\n",
    "    \"it's HCPC-HO3-2259768\",\n",
    "    \"it's 225976-8\",\n",
    "    \"it's 2259768\",\n",
    "    \"how should i write it?\",\n",
    "    \"I don't really remember the policy number\"   \n",
    "]\n",
    "for text in texts:\n",
    "    print('\\n'+'-'*40)\n",
    "    print(text+'\\n')\n",
    "    pprint(verify_policy_number(text), indent=2, depth=5)"
   ]
  },
  {
   "cell_type": "markdown",
   "metadata": {},
   "source": [
    "### Verify Name"
   ]
  },
  {
   "cell_type": "code",
   "execution_count": 13,
   "metadata": {},
   "outputs": [
    {
     "name": "stdout",
     "output_type": "stream",
     "text": [
      "----------------------------------------\n",
      "('Zafarullah Mahmood', 'Zafarullah M')\n",
      "(True, 80)\n",
      "----------------------------------------\n",
      "('Z Mahmood', 'Zafar Mahmood')\n",
      "(True, 82)\n",
      "----------------------------------------\n",
      "('Zafar Mahmoood', 'Zafarullah Mahmood')\n",
      "(True, 81)\n",
      "----------------------------------------\n",
      "('Dr Z Mahmood', 'Dr Zafarullah Mahmood')\n",
      "(True, 73)\n",
      "----------------------------------------\n",
      "('Angela Duckworth', 'Zafarullah Mahmood')\n",
      "(False, 76)\n"
     ]
    }
   ],
   "source": [
    "texts = [\n",
    "    (\"Zafarullah Mahmood\", \"Zafarullah M\"),\n",
    "    (\"Z Mahmood\", \"Zafar Mahmood\"),\n",
    "    (\"Zafar Mahmoood\", \"Zafarullah Mahmood\"),\n",
    "    (\"Dr Z Mahmood\", \"Dr Zafarullah Mahmood\"),\n",
    "    (\"Angela Duckworth\", \"Zafarullah Mahmood\"),\n",
    "]\n",
    "for text in texts:\n",
    "    print('-'*40)\n",
    "    print(text)\n",
    "    pprint(verify_name(text[0], text[1]))"
   ]
  },
  {
   "cell_type": "markdown",
   "metadata": {},
   "source": [
    "### Please tell me your primary phone number?"
   ]
  },
  {
   "cell_type": "code",
   "execution_count": 18,
   "metadata": {},
   "outputs": [
    {
     "name": "stdout",
     "output_type": "stream",
     "text": [
      "----------------------------------------\n",
      "it's 9650565809\n",
      "{'reply': 'Got that. Please provide me with an email address where I will send the details of the claim.',\n",
      " 'response': 'valid',\n",
      " 'value': '9650565809'}\n",
      "----------------------------------------\n",
      "it's +1-9659565809\n",
      "{'reply': 'Got that. Please provide me with an email address where I will send the details of the claim.',\n",
      " 'response': 'valid',\n",
      " 'value': '9659565809'}\n",
      "----------------------------------------\n",
      "it's 565 8019\n",
      "{'reply': 'Ok. And the area code?',\n",
      " 'response': 'area_code_missing',\n",
      " 'value': '5658019'}\n",
      "----------------------------------------\n",
      "my phone number is 9650565809\n",
      "{'reply': 'Got that. Please provide me with an email address where I will send the details of the claim.',\n",
      " 'response': 'valid',\n",
      " 'value': '9650565809'}\n",
      "----------------------------------------\n",
      "it is 7132456\n",
      "{'reply': 'Ok. And the area code?',\n",
      " 'response': 'area_code_missing',\n",
      " 'value': '7132456'}\n",
      "----------------------------------------\n",
      "You want it with or without country code?\n",
      "{'reply': \"This doesn't seem like a valid number. Please provide your phone number with area code\",\n",
      " 'response': 'not_valid'}\n"
     ]
    }
   ],
   "source": [
    "texts = [\n",
    "    \"it's 9650565809\",\n",
    "    \"it's +1-9659565809\",\n",
    "    \"it's 565 8019\",\n",
    "    \"my phone number is 9650565809\",\n",
    "    \"it is 7132456\",\n",
    "    \"You want it with or without country code?\",\n",
    "]\n",
    "for text in texts:\n",
    "    print('-'*40)\n",
    "    print(text)\n",
    "    pprint(verify_phone_number(text))"
   ]
  },
  {
   "cell_type": "code",
   "execution_count": 29,
   "metadata": {},
   "outputs": [
    {
     "name": "stdout",
     "output_type": "stream",
     "text": [
      "----------------------------------------\n",
      "it's 9650565809\n",
      "('valid', u'9650565809')\n",
      "----------------------------------------\n",
      "it's +1-9659565809\n",
      "('valid', u'+1-9659565809')\n",
      "----------------------------------------\n",
      "it's +19650565809\n",
      "('valid', u'+19650565809')\n",
      "----------------------------------------\n",
      "my phone number is 9650565809\n",
      "('valid', u'9650565809')\n",
      "----------------------------------------\n",
      "it's 7132456\n",
      "('area_code_needed', u'7132456')\n",
      "----------------------------------------\n",
      "You want it with or without country code?\n",
      "'not_found'\n"
     ]
    }
   ],
   "source": [
    "texts = [\n",
    "    \"it's 9650565809\",\n",
    "    \"it's +1-9659565809\",\n",
    "    \"it's +19650565809\",\n",
    "    \"my phone number is 9650565809\",\n",
    "    \"it's 7132456\",\n",
    "    \"You want it with or without country code?\",\n",
    "]\n",
    "\n",
    "for text in texts:\n",
    "    print('-'*40)\n",
    "    print(text)\n",
    "    pprint(verify_phone_number_2(text))"
   ]
  },
  {
   "cell_type": "markdown",
   "metadata": {},
   "source": [
    "### Email"
   ]
  },
  {
   "cell_type": "code",
   "execution_count": 8,
   "metadata": {},
   "outputs": [
    {
     "name": "stdout",
     "output_type": "stream",
     "text": [
      "----------------------------------------\n",
      "it's chandrashekhar1503@gmail.com\n",
      "('valid', ['chandrashekhar1503@gmail.com'])\n",
      "----------------------------------------\n",
      "chandrashekhar1503@gmail.com\n",
      "('valid', ['chandrashekhar1503@gmail.com'])\n",
      "----------------------------------------\n",
      "chandrashekhar1503\n",
      "'not_valid'\n"
     ]
    }
   ],
   "source": [
    "texts = [\n",
    "    \"it's chandrashekhar1503@gmail.com\",\n",
    "    \"chandrashekhar1503@gmail.com\",\n",
    "    \"chandrashekhar1503\",\n",
    "]\n",
    "for text in texts:\n",
    "    print('-'*40)\n",
    "    print(text)\n",
    "    pprint(verify_email_address(text))"
   ]
  },
  {
   "cell_type": "markdown",
   "metadata": {},
   "source": [
    "### How did the loss occur?"
   ]
  },
  {
   "cell_type": "code",
   "execution_count": 7,
   "metadata": {},
   "outputs": [
    {
     "name": "stdout",
     "output_type": "stream",
     "text": [
      "----------------------------------------\n",
      "Our whole house structure got damaged due to hurricane Isaac\n",
      "{'loss': {'confidence': 0.4,\n",
      "          'words': {'damaged': 1, 'house': 1, 'hurricane': 1, 'isaac': 1}}}\n",
      "----------------------------------------\n",
      "Roof, shingles and everything were blown by isaac\n",
      "{'exterior': {'confidence': 0.375,\n",
      "              'words': {'blown': 1, 'roof': 1, 'shingles': 1}},\n",
      " 'loss': {'confidence': 0.5,\n",
      "          'words': {'blown': 1, 'isaac': 1, 'roof': 1, 'shingles': 1}}}\n",
      "----------------------------------------\n",
      "Mainly due to isaac, there were strong winds blowinf all around and it hit our house badly\n",
      "{'loss': {'confidence': 0.23529411764705882,\n",
      "          'words': {'hit': 1, 'house': 1, 'isaac': 1, 'winds': 1}}}\n",
      "----------------------------------------\n",
      "We were not here when actually loss happened but, it's mainly due to Isaac I believe\n",
      "{'loss': {'confidence': 0.125, 'words': {'isaac': 1, 'loss': 1}}}\n",
      "----------------------------------------\n",
      "Regarding exteriors, whole swimming pool, bird cage, garage got damaged while in interiors the wall, cabinet etc. are damaged\n",
      "{'exterior': {'confidence': 0.3684210526315789,\n",
      "              'words': {'bird': 1,\n",
      "                        'cage': 1,\n",
      "                        'exteriors': 1,\n",
      "                        'garage': 1,\n",
      "                        'pool': 1,\n",
      "                        'swimming': 1,\n",
      "                        'wall': 1}},\n",
      " 'interior': {'confidence': 0.15789473684210525,\n",
      "              'words': {'cabinet': 1, 'interiors': 1, 'wall': 1}},\n",
      " 'loss': {'confidence': 0.42105263157894735,\n",
      "          'words': {'cabinet': 1,\n",
      "                    'damaged': 2,\n",
      "                    'exteriors': 1,\n",
      "                    'garage': 1,\n",
      "                    'interiors': 1,\n",
      "                    'pool': 1,\n",
      "                    'wall': 1}}}\n"
     ]
    }
   ],
   "source": [
    "texts = [\n",
    "    \"Our whole house structure got damaged due to hurricane Isaac\",\n",
    "    \"Roof, shingles and everything were blown by isaac\",\n",
    "    \"Mainly due to isaac, there were strong winds blowinf all around and it hit our house badly\",\n",
    "    \"We were not here when actually loss happened but, it's mainly due to Isaac I believe\",\n",
    "    \"Regarding exteriors, whole swimming pool, bird cage, garage got damaged while in interiors the wall,\"\\\n",
    "    \" cabinet etc. are damaged\",\n",
    "]\n",
    "for text in texts:\n",
    "    print('-'*40)\n",
    "    print(text)\n",
    "    pprint(get_loss(text, thresh=0.1))"
   ]
  },
  {
   "cell_type": "markdown",
   "metadata": {},
   "source": [
    "### When did the loss occur?"
   ]
  },
  {
   "cell_type": "code",
   "execution_count": 31,
   "metadata": {},
   "outputs": [
    {
     "name": "stdout",
     "output_type": "stream",
     "text": [
      "----------------------------------------\n",
      "on 22nd\n",
      "u'2018-09-22T00:00:00.000+05:30'\n",
      "----------------------------------------\n",
      "on 22nd of this month\n",
      "u'2018-09-22T00:00:00.000+05:30'\n",
      "----------------------------------------\n",
      "yesterday\n",
      "u'2018-09-16T00:00:00.000+05:30'\n",
      "----------------------------------------\n",
      "day before yesterday\n",
      "u'2018-09-15T00:00:00.000+05:30'\n",
      "----------------------------------------\n",
      "we were not here but, our neighbors told us that it happened on 22nd of this month in the evening probably\n",
      "u'2018-09-22T00:00:00.000+05:30'\n",
      "----------------------------------------\n",
      "today itself\n",
      "u'2018-09-17T00:00:00.000+05:30'\n",
      "----------------------------------------\n",
      "last saturday\n",
      "u'2018-09-15T00:00:00.000+05:30'\n",
      "----------------------------------------\n",
      "last sat night\n",
      "{u'from': u'2018-09-15T18:00:00.000+05:30',\n",
      " u'to': u'2018-09-16T00:00:00.000+05:30'}\n",
      "----------------------------------------\n",
      "last night\n",
      "{u'from': u'2018-09-16T18:00:00.000+05:30',\n",
      " u'to': u'2018-09-17T00:00:00.000+05:30'}\n",
      "----------------------------------------\n",
      "this morning\n",
      "{u'from': u'2018-09-17T04:00:00.000+05:30',\n",
      " u'to': u'2018-09-17T12:00:00.000+05:30'}\n"
     ]
    }
   ],
   "source": [
    "texts = [\n",
    "    \"on 22nd\",\n",
    "    \"on 22nd of this month\",\n",
    "    \"yesterday\",\n",
    "    \"day before yesterday\",\n",
    "    \"we were not here but, our neighbors told us that it happened on 22nd of this month in the evening probably\",\n",
    "    \"today itself\",\n",
    "    \"last saturday\",\n",
    "    \"last sat night\",\n",
    "    \"last night\",\n",
    "    \"this morning\",\n",
    "]\n",
    "for text in texts:\n",
    "    print('-'*40)\n",
    "    print(text)\n",
    "    pprint(get_loss_date(text))"
   ]
  },
  {
   "cell_type": "markdown",
   "metadata": {},
   "source": [
    "### What is the duration of the power loss?"
   ]
  },
  {
   "cell_type": "code",
   "execution_count": 22,
   "metadata": {
    "scrolled": true
   },
   "outputs": [
    {
     "name": "stdout",
     "output_type": "stream",
     "text": [
      "----------------------------------------\n",
      "it was for 5 hrs may be\n",
      "{u'day': None,\n",
      " u'hour': 5,\n",
      " u'minute': None,\n",
      " u'month': None,\n",
      " u'second': None,\n",
      " u'unit': u'hour',\n",
      " u'value': 5.0,\n",
      " u'year': None}\n",
      "----------------------------------------\n",
      "5 hrs\n",
      "{u'day': None,\n",
      " u'hour': 5,\n",
      " u'minute': None,\n",
      " u'month': None,\n",
      " u'second': None,\n",
      " u'unit': u'hour',\n",
      " u'value': 5.0,\n",
      " u'year': None}\n",
      "----------------------------------------\n",
      "i guess for 5 hrs\n",
      "{u'day': None,\n",
      " u'hour': 5,\n",
      " u'minute': None,\n",
      " u'month': None,\n",
      " u'second': None,\n",
      " u'unit': u'hour',\n",
      " u'value': 5.0,\n",
      " u'year': None}\n",
      "----------------------------------------\n",
      "i am not sure but, 5 hours i guess\n",
      "{u'day': None,\n",
      " u'hour': 5,\n",
      " u'minute': None,\n",
      " u'month': None,\n",
      " u'second': None,\n",
      " u'unit': u'hour',\n",
      " u'value': 5.0,\n",
      " u'year': None}\n",
      "----------------------------------------\n",
      "it's been long\n",
      "'not_found'\n",
      "----------------------------------------\n",
      "since last night\n",
      "'not_found'\n",
      "----------------------------------------\n",
      "for five hrs may be\n",
      "{u'day': None,\n",
      " u'hour': 5,\n",
      " u'minute': None,\n",
      " u'month': None,\n",
      " u'second': None,\n",
      " u'unit': u'hour',\n",
      " u'value': 5.0,\n",
      " u'year': None}\n",
      "----------------------------------------\n",
      "for like five six hours\n",
      "{u'day': None,\n",
      " u'hour': 6,\n",
      " u'minute': None,\n",
      " u'month': None,\n",
      " u'second': None,\n",
      " u'unit': u'hour',\n",
      " u'value': 6.0,\n",
      " u'year': None}\n",
      "----------------------------------------\n",
      "for like 5-6 hours\n",
      "{u'day': None,\n",
      " u'hour': 6,\n",
      " u'minute': None,\n",
      " u'month': None,\n",
      " u'second': None,\n",
      " u'unit': u'hour',\n",
      " u'value': 6.0,\n",
      " u'year': None}\n"
     ]
    }
   ],
   "source": [
    "texts = [\n",
    "    \"it was for 5 hrs may be\",\n",
    "    \"5 hrs\",\n",
    "    \"i guess for 5 hrs\",\n",
    "    \"i am not sure but, 5 hours i guess\",\n",
    "    \"it's been long\",\n",
    "    \"since last night\",\n",
    "    \"for five hrs may be\",\n",
    "    \"for like five six hours\",\n",
    "    \"for like 5-6 hours\"\n",
    "]\n",
    "for text in texts:\n",
    "    print('-'*40)\n",
    "    print(text)\n",
    "    pprint(get_power_loss_duration(text))"
   ]
  },
  {
   "cell_type": "markdown",
   "metadata": {},
   "source": [
    "### Get food spoilage estimate"
   ]
  },
  {
   "cell_type": "code",
   "execution_count": null,
   "metadata": {},
   "outputs": [],
   "source": [
    "texts = [\n",
    "    \"around 50 dollars\",\n",
    "    \"may be 50 $\",\n",
    "    \"may be some 50 bucks\",\n",
    "    \"Around $40\",\n",
    "    \"Maybe 40.00 USD\"\n",
    "]\n",
    "for text in texts:\n",
    "    print('-'*40)\n",
    "    print(text)\n",
    "    pprint(get_food_spoilage_estimate(text))"
   ]
  },
  {
   "cell_type": "markdown",
   "metadata": {},
   "source": [
    "### Is the house in a livable condition?"
   ]
  },
  {
   "cell_type": "code",
   "execution_count": 10,
   "metadata": {
    "scrolled": true
   },
   "outputs": [
    {
     "name": "stdout",
     "output_type": "stream",
     "text": [
      "----------------------------------------\n",
      "No it isn't\n",
      "'no'\n",
      "----------------------------------------\n",
      "It's so bad that I can't think of living here\n",
      "'no'\n",
      "----------------------------------------\n",
      "It doesn't look like liveable\n",
      "'no'\n",
      "----------------------------------------\n",
      "So much of damage, I can't live here\n",
      "'no'\n"
     ]
    }
   ],
   "source": [
    "texts = [\n",
    "    \"No it isn't\",\n",
    "    \"It's so bad that I can't think of living here\",\n",
    "    \"It doesn't look like liveable\",\n",
    "    \"So much of damage, I can't live here\",\n",
    "]\n",
    "for text in texts:\n",
    "    print('-'*40)\n",
    "    print(text)\n",
    "    pprint(get_home_livable(text))"
   ]
  },
  {
   "cell_type": "markdown",
   "metadata": {},
   "source": [
    "## Other Intelligent APIs"
   ]
  },
  {
   "cell_type": "markdown",
   "metadata": {},
   "source": [
    "### Extracting Address from response"
   ]
  },
  {
   "cell_type": "code",
   "execution_count": 4,
   "metadata": {},
   "outputs": [
    {
     "name": "stdout",
     "output_type": "stream",
     "text": [
      "----------------------------------------\n",
      "it's 223 E. Concord Street, Orlando, FL 32801\n",
      "u'223 E. Concord Street, Orlando, FL 32801'\n",
      "----------------------------------------\n",
      "i stay at 223 E. Concord Street, Orlando, FL 32801\n",
      "u'223 E. Concord Street, Orlando, FL 32801'\n",
      "----------------------------------------\n",
      "it's 223 E. Concord Street, Orlando\n",
      "u'223 E. Concord Street, Orlando'\n",
      "----------------------------------------\n",
      "it's 223 E. Concord Street\n",
      "u'223 E. Concord Street'\n",
      "----------------------------------------\n",
      "it's 223 E. Concord Street in Orlando\n",
      "u'223 E. Concord Street Orlando'\n",
      "----------------------------------------\n",
      "it's Orlando, 223 E. Concord Street\n",
      "u'Orlando, 223 E. Concord Street'\n",
      "----------------------------------------\n",
      "i stay in Orlando\n",
      "u'Orlando'\n",
      "----------------------------------------\n",
      "223 E. Concord Street, Orlando, FL 32801\n",
      "u'223 E. Concord Street, Orlando, FL 32801'\n"
     ]
    }
   ],
   "source": [
    "texts = [\n",
    "    \"it's 223 E. Concord Street, Orlando, FL 32801\",\n",
    "    \"i stay at 223 E. Concord Street, Orlando, FL 32801\",\n",
    "    \"it's 223 E. Concord Street, Orlando\",\n",
    "    \"it's 223 E. Concord Street\",\n",
    "    \"it's 223 E. Concord Street in Orlando\",\n",
    "    \"it's Orlando, 223 E. Concord Street\",\n",
    "    \"i stay in Orlando\",\n",
    "    \"223 E. Concord Street, Orlando, FL 32801\"\n",
    "]\n",
    "for text in texts:\n",
    "    print('-'*40)\n",
    "    print(text)\n",
    "    pprint(get_location(text))"
   ]
  },
  {
   "cell_type": "markdown",
   "metadata": {},
   "source": [
    "### Extracting Name from response"
   ]
  },
  {
   "cell_type": "code",
   "execution_count": 12,
   "metadata": {},
   "outputs": [
    {
     "name": "stdout",
     "output_type": "stream",
     "text": [
      "----------------------------------------\n",
      "My name is Zafarullah Mahmood\n",
      "u'Zafarullah Mahmood'\n",
      "----------------------------------------\n",
      "The name is Mr. Zafarullah Mahmood\n",
      "u'Mr Zafarullah Mahmood'\n",
      "----------------------------------------\n",
      "Zafarullah Mahmood\n",
      "u'Zafarullah Mahmood'\n",
      "----------------------------------------\n",
      "Z Mahmood\n",
      "u'Z Mahmood'\n",
      "----------------------------------------\n",
      "Zafarullah M\n",
      "u'Zafarullah M'\n",
      "----------------------------------------\n",
      "I am Zafarullah M\n",
      "u'Zafarullah'\n",
      "----------------------------------------\n",
      "Zafarullah Mahmood is my name\n",
      "u'Zafarullah Mahmood'\n",
      "----------------------------------------\n",
      "My name Z Mahmood\n",
      "u'Z Mahmood'\n"
     ]
    }
   ],
   "source": [
    "texts = [\n",
    "    \"My name is Zafarullah Mahmood\",\n",
    "    \"The name is Mr. Zafarullah Mahmood\",\n",
    "    \"Zafarullah Mahmood\",\n",
    "    \"Z Mahmood\",\n",
    "    \"Zafarullah M\",\n",
    "    \"I am Zafarullah M\",\n",
    "    \"Zafarullah Mahmood is my name\",\n",
    "    \"My name Z Mahmood\"\n",
    "]\n",
    "for text in texts:\n",
    "    print('-'*40)\n",
    "    print(text)\n",
    "    pprint(get_name(text))"
   ]
  },
  {
   "cell_type": "code",
   "execution_count": null,
   "metadata": {},
   "outputs": [],
   "source": []
  }
 ],
 "metadata": {
  "kernelspec": {
   "display_name": "Python 2",
   "language": "python",
   "name": "python2"
  },
  "language_info": {
   "codemirror_mode": {
    "name": "ipython",
    "version": 2
   },
   "file_extension": ".py",
   "mimetype": "text/x-python",
   "name": "python",
   "nbconvert_exporter": "python",
   "pygments_lexer": "ipython2",
   "version": "2.7.15rc1"
  }
 },
 "nbformat": 4,
 "nbformat_minor": 2
}
